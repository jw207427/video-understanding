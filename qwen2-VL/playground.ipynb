{
 "cells": [
  {
   "cell_type": "markdown",
   "id": "42ea2b1c-e796-4190-a78c-7bb7df09333d",
   "metadata": {},
   "source": [
    "### install packages"
   ]
  },
  {
   "cell_type": "code",
   "execution_count": 1,
   "id": "724ba5fb-a4ff-4f3e-a4f2-b8047be17abd",
   "metadata": {},
   "outputs": [
    {
     "name": "stdout",
     "output_type": "stream",
     "text": [
      "Collecting qwen-vl-utils\n",
      "  Downloading qwen_vl_utils-0.0.5-py3-none-any.whl.metadata (3.5 kB)\n",
      "Collecting av (from qwen-vl-utils)\n",
      "  Downloading av-13.0.0-cp311-cp311-manylinux_2_17_x86_64.manylinux2014_x86_64.whl.metadata (4.4 kB)\n",
      "Requirement already satisfied: pillow in /opt/conda/lib/python3.11/site-packages (from qwen-vl-utils) (10.4.0)\n",
      "Requirement already satisfied: requests in /opt/conda/lib/python3.11/site-packages (from qwen-vl-utils) (2.32.3)\n",
      "Requirement already satisfied: charset-normalizer<4,>=2 in /opt/conda/lib/python3.11/site-packages (from requests->qwen-vl-utils) (3.3.2)\n",
      "Requirement already satisfied: idna<4,>=2.5 in /opt/conda/lib/python3.11/site-packages (from requests->qwen-vl-utils) (3.7)\n",
      "Requirement already satisfied: urllib3<3,>=1.21.1 in /opt/conda/lib/python3.11/site-packages (from requests->qwen-vl-utils) (1.26.19)\n",
      "Requirement already satisfied: certifi>=2017.4.17 in /opt/conda/lib/python3.11/site-packages (from requests->qwen-vl-utils) (2024.7.4)\n",
      "Downloading qwen_vl_utils-0.0.5-py3-none-any.whl (4.8 kB)\n",
      "Downloading av-13.0.0-cp311-cp311-manylinux_2_17_x86_64.manylinux2014_x86_64.whl (33.9 MB)\n",
      "\u001b[2K   \u001b[90m━━━━━━━━━━━━━━━━━━━━━━━━━━━━━━━━━━━━━━━━\u001b[0m \u001b[32m33.9/33.9 MB\u001b[0m \u001b[31m118.0 MB/s\u001b[0m eta \u001b[36m0:00:00\u001b[0m00:01\u001b[0m\n",
      "\u001b[?25hInstalling collected packages: av, qwen-vl-utils\n",
      "Successfully installed av-13.0.0 qwen-vl-utils-0.0.5\n"
     ]
    }
   ],
   "source": [
    "!pip install qwen-vl-utils"
   ]
  },
  {
   "cell_type": "code",
   "execution_count": null,
   "id": "57be8a5e-6d05-408b-903b-5bad2ffb480e",
   "metadata": {},
   "outputs": [],
   "source": [
    "from transformers import Qwen2VLForConditionalGeneration, AutoTokenizer, AutoProcessor\n",
    "from qwen_vl_utils import process_vision_info"
   ]
  },
  {
   "cell_type": "code",
   "execution_count": null,
   "id": "edc93d28-4d7e-46c6-8f5e-2e5e8611d7df",
   "metadata": {},
   "outputs": [],
   "source": []
  }
 ],
 "metadata": {
  "kernelspec": {
   "display_name": "Python 3 (ipykernel)",
   "language": "python",
   "name": "python3"
  },
  "language_info": {
   "codemirror_mode": {
    "name": "ipython",
    "version": 3
   },
   "file_extension": ".py",
   "mimetype": "text/x-python",
   "name": "python",
   "nbconvert_exporter": "python",
   "pygments_lexer": "ipython3",
   "version": "3.11.9"
  }
 },
 "nbformat": 4,
 "nbformat_minor": 5
}
