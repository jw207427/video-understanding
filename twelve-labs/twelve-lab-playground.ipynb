{
 "cells": [
  {
   "cell_type": "markdown",
   "id": "8a617df5-ac2e-4fee-bda2-dfc1f1f52317",
   "metadata": {},
   "source": [
    "### Load Python Packages"
   ]
  },
  {
   "cell_type": "code",
   "execution_count": 1,
   "id": "285a0376-f7e8-4b85-b0ed-5dd83bca3645",
   "metadata": {
    "scrolled": true
   },
   "outputs": [
    {
     "name": "stdout",
     "output_type": "stream",
     "text": [
      "Collecting twelvelabs\n",
      "  Downloading twelvelabs-0.2.8-py3-none-any.whl.metadata (16 kB)\n",
      "Collecting pydantic>=2.4.2 (from twelvelabs)\n",
      "  Downloading pydantic-2.9.2-py3-none-any.whl.metadata (149 kB)\n",
      "Requirement already satisfied: httpx>=0.25.2 in /opt/conda/lib/python3.11/site-packages (from twelvelabs) (0.27.0)\n",
      "Requirement already satisfied: anyio in /opt/conda/lib/python3.11/site-packages (from httpx>=0.25.2->twelvelabs) (4.4.0)\n",
      "Requirement already satisfied: certifi in /opt/conda/lib/python3.11/site-packages (from httpx>=0.25.2->twelvelabs) (2024.7.4)\n",
      "Requirement already satisfied: httpcore==1.* in /opt/conda/lib/python3.11/site-packages (from httpx>=0.25.2->twelvelabs) (1.0.5)\n",
      "Requirement already satisfied: idna in /opt/conda/lib/python3.11/site-packages (from httpx>=0.25.2->twelvelabs) (3.7)\n",
      "Requirement already satisfied: sniffio in /opt/conda/lib/python3.11/site-packages (from httpx>=0.25.2->twelvelabs) (1.3.1)\n",
      "Requirement already satisfied: h11<0.15,>=0.13 in /opt/conda/lib/python3.11/site-packages (from httpcore==1.*->httpx>=0.25.2->twelvelabs) (0.14.0)\n",
      "Requirement already satisfied: annotated-types>=0.6.0 in /opt/conda/lib/python3.11/site-packages (from pydantic>=2.4.2->twelvelabs) (0.7.0)\n",
      "Collecting pydantic-core==2.23.4 (from pydantic>=2.4.2->twelvelabs)\n",
      "  Downloading pydantic_core-2.23.4-cp311-cp311-manylinux_2_17_x86_64.manylinux2014_x86_64.whl.metadata (6.6 kB)\n",
      "Requirement already satisfied: typing-extensions>=4.6.1 in /opt/conda/lib/python3.11/site-packages (from pydantic>=2.4.2->twelvelabs) (4.12.2)\n",
      "Downloading twelvelabs-0.2.8-py3-none-any.whl (33 kB)\n",
      "Downloading pydantic-2.9.2-py3-none-any.whl (434 kB)\n",
      "Downloading pydantic_core-2.23.4-cp311-cp311-manylinux_2_17_x86_64.manylinux2014_x86_64.whl (2.1 MB)\n",
      "\u001b[2K   \u001b[90m━━━━━━━━━━━━━━━━━━━━━━━━━━━━━━━━━━━━━━━━\u001b[0m \u001b[32m2.1/2.1 MB\u001b[0m \u001b[31m57.3 MB/s\u001b[0m eta \u001b[36m0:00:00\u001b[0m\n",
      "\u001b[?25hInstalling collected packages: pydantic-core, pydantic, twelvelabs\n",
      "  Attempting uninstall: pydantic-core\n",
      "    Found existing installation: pydantic_core 2.18.4\n",
      "    Uninstalling pydantic_core-2.18.4:\n",
      "      Successfully uninstalled pydantic_core-2.18.4\n",
      "  Attempting uninstall: pydantic\n",
      "    Found existing installation: pydantic 1.10.17\n",
      "    Uninstalling pydantic-1.10.17:\n",
      "      Successfully uninstalled pydantic-1.10.17\n",
      "\u001b[31mERROR: pip's dependency resolver does not currently take into account all the packages that are installed. This behaviour is the source of the following dependency conflicts.\n",
      "langchain-community 0.2.12 requires langchain<0.3.0,>=0.2.13, but you have langchain 0.2.5 which is incompatible.\u001b[0m\u001b[31m\n",
      "\u001b[0mSuccessfully installed pydantic-2.7.3 pydantic-core-2.23.4 twelvelabs-0.2.8\n"
     ]
    }
   ],
   "source": [
    "!pip install twelvelabs"
   ]
  },
  {
   "cell_type": "markdown",
   "id": "f11baf36-9ce5-4cf2-bbf9-7592bbabf354",
   "metadata": {},
   "source": [
    "### Load API key & Initialize TwelveLab Client"
   ]
  },
  {
   "cell_type": "code",
   "execution_count": 19,
   "id": "ec9b53f1-d7c0-4e62-b63c-775f0803e571",
   "metadata": {},
   "outputs": [],
   "source": [
    "import json\n",
    "from twelvelabs import TwelveLabs\n",
    "from twelvelabs import APIStatusError\n",
    "from twelvelabs.models.task import Task\n",
    "from pathlib import Path\n",
    "from IPython.display import Video\n",
    "\n",
    "def load_api_key(file_path='config.json', key_name='api_key'):\n",
    "    try:\n",
    "        with open(file_path, 'r') as file:\n",
    "            config = json.load(file)\n",
    "        return config.get(key_name)\n",
    "    except FileNotFoundError:\n",
    "        print(f\"Error: The file {file_path} was not found.\")\n",
    "    except json.JSONDecodeError:\n",
    "        print(f\"Error: The file {file_path} is not a valid JSON file.\")\n",
    "    except Exception as e:\n",
    "        print(f\"An unexpected error occurred: {e}\")\n",
    "    return None\n",
    "\n",
    "# Usage example:\n",
    "api_key = load_api_key(file_path=\"access.json\", key_name=\"API_KEY\")\n",
    "\n",
    "client = TwelveLabs(api_key=api_key)"
   ]
  },
  {
   "cell_type": "markdown",
   "id": "3da4391b-cbd6-44f3-a16d-712bb393f9ea",
   "metadata": {
    "jp-MarkdownHeadingCollapsed": true
   },
   "source": [
    "### Setup Video Index"
   ]
  },
  {
   "cell_type": "code",
   "execution_count": 8,
   "id": "19cf87f7-3cfb-4fff-807c-be2d721e5143",
   "metadata": {},
   "outputs": [],
   "source": [
    "from typing import List, Optional\n",
    "\n",
    "def get_or_create_index(client, index_name: str) -> Optional[str]:\n",
    "    \"\"\"\n",
    "    Get an existing index or create a new one if it doesn't exist.\n",
    "\n",
    "    Args:\n",
    "        client: The client object to interact with the index API.\n",
    "        index_name (str): The name of the index to get or create.\n",
    "        engines (List[dict]): A list of engine configurations for the new index.\n",
    "\n",
    "    Returns:\n",
    "        Optional[str]: The ID of the existing or newly created index, or None if an error occurred.\n",
    "    \"\"\"\n",
    "    try:\n",
    "        # Get a list of existing indexes\n",
    "        indexes = client.index.list(page=1)\n",
    "\n",
    "        # Check if an index with the desired name already exists\n",
    "        for index in indexes:\n",
    "            if index.name == index_name:\n",
    "                print(f\"Using existing index '{index.name}' (id={index.id})\")\n",
    "                return index.id\n",
    "\n",
    "        # Example usage\n",
    "        engines = [\n",
    "            {\n",
    "                \"name\": \"marengo2.6\",\n",
    "                \"options\": [\"visual\", \"conversation\", \"text_in_video\"],\n",
    "            },\n",
    "            {\n",
    "                \"name\": \"pegasus1.1\",\n",
    "                \"options\": [\"visual\", \"conversation\"],\n",
    "            },\n",
    "        ]\n",
    "        # If the index doesn't exist, create a new one\n",
    "        index_obj = client.index.create(\n",
    "            name=index_name,\n",
    "            engines=engines,\n",
    "        )\n",
    "        print(f\"Created new index '{index_obj.name}' (id={index_obj.id})\")\n",
    "        return index_obj.id\n",
    "\n",
    "    except APIStatusError as e:\n",
    "        print('API Status Error, 4xx or 5xx')\n",
    "        print(e)\n",
    "    except Exception as e:\n",
    "        print(e)\n",
    "\n",
    "    return None"
   ]
  },
  {
   "cell_type": "markdown",
   "id": "668192f1-83d3-402c-b337-b485ae9fb255",
   "metadata": {},
   "source": [
    "### Create Video Index"
   ]
  },
  {
   "cell_type": "code",
   "execution_count": 11,
   "id": "14f42b7e-5214-4542-848e-1fb89a6c21b0",
   "metadata": {},
   "outputs": [
    {
     "name": "stdout",
     "output_type": "stream",
     "text": [
      "Using existing index 'My Index (Default)' (id=66c69fe2d057881c8deee0fc)\n",
      "Index ID: 66c69fe2d057881c8deee0fc\n"
     ]
    }
   ],
   "source": [
    "index_id = get_or_create_index(client, \"My Index (Default)\")\n",
    "if index_id:\n",
    "    print(f\"Index ID: {index_id}\")\n",
    "else:\n",
    "    print(\"Failed to get or create index.\")"
   ]
  },
  {
   "cell_type": "markdown",
   "id": "0859cbc8-3d67-418e-b9cc-b0913cdaa520",
   "metadata": {},
   "source": [
    "### Download sample video"
   ]
  },
  {
   "cell_type": "code",
   "execution_count": 17,
   "id": "ab988e12-98bd-439b-ab95-9f23114ff7ef",
   "metadata": {},
   "outputs": [
    {
     "name": "stdout",
     "output_type": "stream",
     "text": [
      "  % Total    % Received % Xferd  Average Speed   Time    Time     Time  Current\n",
      "                                 Dload  Upload   Total   Spent    Left  Speed\n",
      "100 47.1M  100 47.1M    0     0   115M      0 --:--:-- --:--:-- --:--:--  115M\n"
     ]
    },
    {
     "data": {
      "text/html": [
       "<video src=\"https://dx2y1cac29mt3.cloudfront.net/mp4/netflix/Netflix_Open_Content_Meridian.mp4\" controls muted autoplay  width=\"640\"  height=\"360\">\n",
       "      Your browser does not support the <code>video</code> element.\n",
       "    </video>"
      ],
      "text/plain": [
       "<IPython.core.display.Video object>"
      ]
     },
     "execution_count": 17,
     "metadata": {},
     "output_type": "execute_result"
    }
   ],
   "source": [
    "# Save information about the video in a dictionary as we progress through the notebook\n",
    "video = {}\n",
    "video[\"mp4_file\"] = 'Netflix_Open_Content_Meridian.mp4'\n",
    "video[\"video_dir\"] = Path(video[\"mp4_file\"]).stem\n",
    "video[\"url\"] = f\"https://dx2y1cac29mt3.cloudfront.net/mp4/netflix/{video['mp4_file']}\"\n",
    "\n",
    "!curl {video[\"url\"]} -o {video[\"mp4_file\"]}\n",
    "\n",
    "Video(url=video[\"url\"], width=640, height=360, html_attributes=\"controls muted autoplay\")"
   ]
  },
  {
   "cell_type": "markdown",
   "id": "6a9bf867-3393-434b-9d59-d6620e96f673",
   "metadata": {},
   "source": [
    "### Create an Index of the Video"
   ]
  },
  {
   "cell_type": "code",
   "execution_count": 21,
   "id": "0a72c94d-e320-49d0-8685-5d018b239770",
   "metadata": {},
   "outputs": [
    {
     "name": "stdout",
     "output_type": "stream",
     "text": [
      "Task id=66eebe5a5bfc453560996ccf\n",
      "  Status=pending\n",
      "  Status=pending\n",
      "  Status=pending\n",
      "  Status=pending\n",
      "  Status=indexing\n",
      "  Status=indexing\n",
      "  Status=indexing\n",
      "  Status=indexing\n",
      "  Status=indexing\n",
      "  Status=indexing\n",
      "  Status=indexing\n",
      "  Status=indexing\n",
      "  Status=indexing\n",
      "  Status=indexing\n",
      "  Status=indexing\n",
      "  Status=indexing\n",
      "  Status=indexing\n",
      "  Status=indexing\n",
      "  Status=indexing\n",
      "  Status=indexing\n",
      "  Status=indexing\n",
      "  Status=ready\n",
      "The unique identifer of your video is 66eebe5bd4f452b062c63f01.\n"
     ]
    }
   ],
   "source": [
    "task = client.task.create(\n",
    "  index_id=index_id,\n",
    "  file=video[\"mp4_file\"],\n",
    "  # transcription_file=\"<YOUR_TRANSCRIPTION_FILE>\"\n",
    ")\n",
    "print(f\"Task id={task.id}\")\n",
    "\n",
    "# Utility function to print the status of a video indexing task\n",
    "def on_task_update(task: Task):\n",
    "      print(f\"  Status={task.status}\")\n",
    "\n",
    "task.wait_for_done(sleep_interval=5, callback=on_task_update)\n",
    "\n",
    "if task.status != \"ready\":\n",
    "  raise RuntimeError(f\"Indexing failed with status {task.status}\")\n",
    "print(f\"The unique identifer of your video is {task.video_id}.\")"
   ]
  },
  {
   "cell_type": "markdown",
   "id": "7603fd44-82d4-421e-aff8-4c5b6a702113",
   "metadata": {},
   "source": [
    "### Generate title, topic, and hashtag\n"
   ]
  },
  {
   "cell_type": "code",
   "execution_count": 24,
   "id": "68808516-f66e-47a3-b43f-8b51060d701b",
   "metadata": {},
   "outputs": [
    {
     "name": "stdout",
     "output_type": "stream",
     "text": [
      "CPU times: user 3 μs, sys: 0 ns, total: 3 μs\n",
      "Wall time: 5.96 μs\n",
      "Title=Mysterious Disappearances and Dark Secrets in 1947 Hollywood\n",
      "Topic=root=['Hollywood Noir Mystery']\n",
      "Hashtags=root=['LosAngeles', '1947', 'Hollywood', 'Mystery', 'Detective', 'Noir', 'Vintage']\n"
     ]
    }
   ],
   "source": [
    "%time\n",
    "gist = client.generate.gist(\n",
    "  video_id=task.video_id,\n",
    "  types=[\"title\", \"topic\", \"hashtag\"]\n",
    ")\n",
    "print(f\"Title={gist.title}\\nTopic={gist.topics}\\nHashtags={gist.hashtags}\")"
   ]
  },
  {
   "cell_type": "markdown",
   "id": "da206be9-fd66-4753-a498-917147c4020a",
   "metadata": {},
   "source": [
    "### Generate Summary"
   ]
  },
  {
   "cell_type": "code",
   "execution_count": 26,
   "id": "b011fdd2-0889-41ab-a276-7e29f0fa97c5",
   "metadata": {},
   "outputs": [
    {
     "name": "stdout",
     "output_type": "stream",
     "text": [
      "CPU times: user 2 μs, sys: 0 ns, total: 2 μs\n",
      "Wall time: 6.2 μs\n",
      "Summary= The video takes viewers on a journey through Los Angeles in 1947, beginning with a bustling city street scene that highlights iconic landmarks such as the Hollywood sign, Warner Bros. Theatre, Roosevelt Hotel, and Chinese Theatre. It then shifts focus to a law office where a man named Samuel Goldwyn discusses a mysterious case involving several missing men. The dialogue reveals that the men had no apparent connections to criminal activity but were all divorced. The conversation hints at a potential link to a notorious figure, Mickey Cohen, and introduces a witness who saw strange occurrences at the site of the disappearances.\n",
      "As the narrative unfolds, the witness recounts seeing a man on a rock at El Matador beach, followed by a sudden and intense storm. In the midst of this chaos, the man disappears, and a woman in a white dress with alabaster skin appears, staring directly at the witness. This eerie description sets the stage for an investigation.\n",
      "The scene transitions to the detective, who is seen driving through a picturesque landscape to a luxurious mansion where he mingles with guests, before eventually heading back to his office, deep in contemplation about the case. As the investigation continues, the detective finds himself on a stormy beach at night, facing tumultuous weather and strange events. He encounters a woman in a cave, leading to a tense confrontation where secrets and suspicions are revealed.\n",
      "The story reaches a climax as the detective and the woman navigate through a collapsing cave filled with glowing crystals, ultimately finding themselves trapped. In a dramatic turn of events, the woman disarms the detective, leading to a moment of understanding and a decision to collaborate. They escape the cave and witness a sunrise, symbolizing a new beginning.\n",
      "The video ends with the detective, now back at his office, looking out into the night, still haunted by the mysterious events and the enigmatic woman. His thoughts are interrupted by a sudden encounter with the LAPD, adding a final layer of tension and unresolved mystery to the narrative.\n",
      "Overall, the video blends elements of film noir and supernatural intrigue, weaving a complex tale of disappearance, investigation, and unexpected alliances set against the backdrop of 1940s Los Angeles.\n"
     ]
    }
   ],
   "source": [
    "%time\n",
    "res = client.generate.summarize(\n",
    "  video_id=task.video_id,\n",
    "  type=\"summary\"\n",
    ")\n",
    "print(f\"Summary= {res.summary}\")"
   ]
  },
  {
   "cell_type": "markdown",
   "id": "e9916148-a335-4fd2-8b13-87124ef2d15f",
   "metadata": {},
   "source": [
    "### Generate Chapters"
   ]
  },
  {
   "cell_type": "code",
   "execution_count": 27,
   "id": "342e38ca-aa28-408f-8a8d-60ddac6471bf",
   "metadata": {},
   "outputs": [
    {
     "name": "stdout",
     "output_type": "stream",
     "text": [
      "Chapter 0,\n",
      "start=0,\n",
      "end=25\n",
      "Title: Introduction to 1947 Los Angeles\n",
      "Summary: The video opens with a bustling city street in Los Angeles, showcasing various landmarks and historic buildings.\n",
      "\n",
      "Chapter 1,\n",
      "start=25,\n",
      "end=68\n",
      "Title: The Law Office\n",
      "Summary: A man named Samuel Goldwyn is seen in his law office, discussing a mysterious case with a client.\n",
      "\n",
      "Chapter 2,\n",
      "start=69,\n",
      "end=180\n",
      "Title: The Mysterious Disappearances\n",
      "Summary: The conversation continues, revealing details about a series of mysterious disappearances and a witness account.\n",
      "\n",
      "Chapter 3,\n",
      "start=180,\n",
      "end=240\n",
      "Title: The Witness Account\n",
      "Summary: The witness describes a strange event involving a woman in a white dress at El Matador.\n",
      "\n",
      "Chapter 4,\n",
      "start=240,\n",
      "end=331\n",
      "Title: Investigation at El Matador\n",
      "Summary: Captain Foster investigates the El Matador location, looking for Detective Sullivan.\n",
      "\n",
      "Chapter 5,\n",
      "start=331,\n",
      "end=540\n",
      "Title: The Stormy Encounter\n",
      "Summary: A man and a woman navigate a stormy beach and a cave, leading to a tense confrontation and eventual reconciliation.\n",
      "\n",
      "Chapter 6,\n",
      "start=540,\n",
      "end=719\n",
      "Title: The Final Confrontation\n",
      "Summary: The video concludes with a dramatic confrontation involving the LAPD and a mysterious woman.\n",
      "\n"
     ]
    }
   ],
   "source": [
    "res = client.generate.summarize(\n",
    "    video_id=task.video_id,\n",
    "    type=\"chapter\",\n",
    ")\n",
    "for chapter in res.chapters:\n",
    "    print(\n",
    "        f\"\"\"Chapter {chapter.chapter_number},\n",
    "start={chapter.start},\n",
    "end={chapter.end}\n",
    "Title: {chapter.chapter_title}\n",
    "Summary: {chapter.chapter_summary}\n",
    "\"\"\"\n",
    "    )"
   ]
  },
  {
   "cell_type": "markdown",
   "id": "07b72d84-5e90-4bee-ac11-ddca95a2ab44",
   "metadata": {},
   "source": [
    "### Generate highlights"
   ]
  },
  {
   "cell_type": "code",
   "execution_count": 29,
   "id": "525431a3-d7e8-48dd-b054-d9725164346d",
   "metadata": {},
   "outputs": [
    {
     "name": "stdout",
     "output_type": "stream",
     "text": [
      "Highlight: Discussion about Disappearances, start: 26, end: 67\n",
      "Highlight: Witness Account, start: 69, end: 124\n",
      "Highlight: Mysterious Woman, start: 153, end: 182\n",
      "Highlight: Recounting the Witness's Story, start: 210, end: 259\n",
      "Highlight: Captain Foster at El Matador, start: 311, end: 331\n",
      "Highlight: Thank You, start: 440, end: 442\n",
      "Highlight: LAPD Confrontation, start: 529, end: 540\n",
      "Highlight: LAPD Confrontation Continued, start: 540, end: 550\n"
     ]
    }
   ],
   "source": [
    "res = client.generate.summarize(\n",
    "    video_id=task.video_id,\n",
    "    type=\"highlight\"\n",
    ")\n",
    "for highlight in res.highlights:\n",
    "    print(f\"Highlight: {highlight.highlight}, start: {highlight.start}, end: {highlight.end}\")"
   ]
  },
  {
   "cell_type": "markdown",
   "id": "d1fdf12a-68ba-41f8-8a7e-21565c263392",
   "metadata": {},
   "source": [
    "### Generate Open-ended text"
   ]
  },
  {
   "cell_type": "code",
   "execution_count": 34,
   "id": "c548cdc8-0d70-4b67-b6ac-c5020a396e72",
   "metadata": {},
   "outputs": [
    {
     "name": "stdout",
     "output_type": "stream",
     "text": [
      "```json\n",
      "{\n",
      "  \"endCredits\": {\n",
      "    \"start\": \"02:56\",\n",
      "    \"end\": \"03:00\"\n",
      "  }\n",
      "}\n",
      "```\n"
     ]
    }
   ],
   "source": [
    "custom_prompt = \"\"\"\n",
    "please detect the end credits of a video and generating the start and end timestamps in JSON format.\n",
    "\n",
    "To identify end credits, use the following criteria:\n",
    "\n",
    "- Scrolling or static text appearing at the end of the video\n",
    "- Names and roles of cast and crew members\n",
    "- Usually appears after the main content has concluded\n",
    "- Often accompanied by background music or a black background\n",
    "\n",
    "Generate a JSON object with the following structure: { \"endCredits\": { \"start\": \"MM:SS\", \"end\": \"MM:SS\" } }. Skip any explanation.\n",
    "\"\"\"\n",
    "\n",
    "res = client.generate.text(\n",
    "  video_id=task.video_id,\n",
    "  prompt=custom_prompt\n",
    ")\n",
    "print(f\"{res.data}\")"
   ]
  },
  {
   "cell_type": "code",
   "execution_count": null,
   "id": "a491e1a7-1aa2-477f-a99b-a017bbbda793",
   "metadata": {},
   "outputs": [],
   "source": []
  }
 ],
 "metadata": {
  "kernelspec": {
   "display_name": "Python 3 (ipykernel)",
   "language": "python",
   "name": "python3"
  },
  "language_info": {
   "codemirror_mode": {
    "name": "ipython",
    "version": 3
   },
   "file_extension": ".py",
   "mimetype": "text/x-python",
   "name": "python",
   "nbconvert_exporter": "python",
   "pygments_lexer": "ipython3",
   "version": "3.11.9"
  }
 },
 "nbformat": 4,
 "nbformat_minor": 5
}
